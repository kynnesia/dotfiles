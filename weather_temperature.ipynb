{
  "cells": [
    {
      "cell_type": "markdown",
      "metadata": {
        "id": "pMaMkoOC9c4b"
      },
      "source": [
        "# 🌤 Weather Temperature"
      ],
      "id": "pMaMkoOC9c4b"
    },
    {
      "cell_type": "markdown",
      "metadata": {
        "id": "to4vZQX39c4j"
      },
      "source": [
        "🔥 This challenge is the most important challenge of the `Recurrent Neural Network` unit. \n",
        "\n",
        "⏳ You should take 2 to 3 hours to complete it. \n",
        "\n",
        "🧑🏻‍🎓 Read everything carefully. \n",
        "\n",
        "💻 Coding sections are indicated with the `laptop` emoji."
      ],
      "id": "to4vZQX39c4j"
    },
    {
      "cell_type": "markdown",
      "metadata": {
        "id": "jGanS5ec9c4k"
      },
      "source": [
        "### Libraries"
      ],
      "id": "jGanS5ec9c4k"
    },
    {
      "cell_type": "code",
      "source": [
        "! pip install nbresult"
      ],
      "metadata": {
        "colab": {
          "base_uri": "https://localhost:8080/"
        },
        "id": "9qUyeUZoKB6m",
        "outputId": "a38617ef-150d-4dbc-9840-5f3c894f625b"
      },
      "execution_count": null,
      "outputs": [
        {
          "output_type": "stream",
          "name": "stdout",
          "text": [
            "Looking in indexes: https://pypi.org/simple, https://us-python.pkg.dev/colab-wheels/public/simple/\n",
            "Collecting nbresult\n",
            "  Downloading nbresult-0.0.8-py3-none-any.whl (4.3 kB)\n",
            "Installing collected packages: nbresult\n",
            "Successfully installed nbresult-0.0.8\n"
          ]
        }
      ],
      "id": "9qUyeUZoKB6m"
    },
    {
      "cell_type": "code",
      "source": [
        "import os\n",
        "os.chdir('/content/drive/MyDrive/Colab Notebooks/data-predict-temperature')"
      ],
      "metadata": {
        "id": "kvJAP_w5KQn1"
      },
      "execution_count": null,
      "outputs": [],
      "id": "kvJAP_w5KQn1"
    },
    {
      "cell_type": "code",
      "source": [
        "from google.colab import drive\n",
        "drive.mount('/content/drive')"
      ],
      "metadata": {
        "colab": {
          "base_uri": "https://localhost:8080/"
        },
        "id": "ahrTaXpmKZTz",
        "outputId": "5608d6b4-b21d-409d-f0ca-8f465078aae8"
      },
      "execution_count": null,
      "outputs": [
        {
          "output_type": "stream",
          "name": "stdout",
          "text": [
            "Mounted at /content/drive\n"
          ]
        }
      ],
      "id": "ahrTaXpmKZTz"
    },
    {
      "cell_type": "markdown",
      "metadata": {
        "id": "rJmrbhaO9c4l"
      },
      "source": [
        "1. Let's import the usual libraries:"
      ],
      "id": "rJmrbhaO9c4l"
    },
    {
      "cell_type": "code",
      "execution_count": 51,
      "metadata": {
        "id": "lksdeO6q9c4l"
      },
      "outputs": [],
      "source": [
        "# Data manipulation\n",
        "import numpy as np\n",
        "import pandas as pd\n",
        "pd.set_option(\"display.max_columns\", None)\n",
        "\n",
        "# Data Visualiation\n",
        "import matplotlib.pyplot as plt\n",
        "import seaborn as sns\n",
        "\n",
        "# System\n",
        "import os\n",
        "\n",
        "# Deep Learning\n",
        "import tensorflow as tf"
      ],
      "id": "lksdeO6q9c4l"
    },
    {
      "cell_type": "markdown",
      "metadata": {
        "id": "N0Km7pLd9c4m"
      },
      "source": [
        "2. Manipulating temporal data is tricky, let's also import 📚 [`typing`](https://docs.python.org/3/library/typing.html) to check the types of variables we will be dealing with in our Python functions:"
      ],
      "id": "N0Km7pLd9c4m"
    },
    {
      "cell_type": "code",
      "execution_count": 52,
      "metadata": {
        "id": "D_JSP3r19c4n"
      },
      "outputs": [],
      "source": [
        "from typing import Dict, List, Tuple, Sequence"
      ],
      "id": "D_JSP3r19c4n"
    },
    {
      "cell_type": "markdown",
      "metadata": {
        "id": "-Jo1r7P-9c4n"
      },
      "source": [
        "# (0) The weather temperature challenge"
      ],
      "id": "-Jo1r7P-9c4n"
    },
    {
      "cell_type": "markdown",
      "metadata": {
        "id": "XkTKHXz19c4o"
      },
      "source": [
        "## (0.0) Introduction"
      ],
      "id": "XkTKHXz19c4o"
    },
    {
      "cell_type": "markdown",
      "metadata": {
        "id": "8v045YJZ9c4p"
      },
      "source": [
        "🧑🏻‍🏫 **Goals:**\n",
        "- Prepare a dataset to be fed into a Recurrent Neural Network\n",
        "- Develop a better understanding of Time Series\n",
        "\n",
        "❗️ **Warning/Disclaimer**:\n",
        "- This challenge is truly designed to help you understand **how to deal with temporal data**, using an LSTM architecture as a _tool_, not to focus on the different gates of the LSTM or designing the \"best\" recurrent network."
      ],
      "id": "8v045YJZ9c4p"
    },
    {
      "cell_type": "markdown",
      "metadata": {
        "id": "cUCQk9L29c4p"
      },
      "source": [
        "🎯 **ML target**:\n",
        "* In this challenge, we want to **predict the temperature in the next 3, 6, 9, 12... hours**... \n",
        "* ...based on a sequence of weather features such as the _past temperature_, the _atmospheric pressure_, the _humidity_, etc.."
      ],
      "id": "cUCQk9L29c4p"
    },
    {
      "cell_type": "markdown",
      "metadata": {
        "id": "srjH3O369c4q"
      },
      "source": [
        "## (0.1) The weather dataset"
      ],
      "id": "srjH3O369c4q"
    },
    {
      "cell_type": "markdown",
      "metadata": {
        "id": "MgtGOQUH9c4q"
      },
      "source": [
        "### (0.1.1) Loading the dataset"
      ],
      "id": "MgtGOQUH9c4q"
    },
    {
      "cell_type": "markdown",
      "metadata": {
        "id": "D43HhZeh9c4q"
      },
      "source": [
        "🌤 This challenge uses a [**weather time series dataset**](https://www.bgc-jena.mpg.de/wetter/) recorded by the [**Max-Planck-Institute for Biogeochemistry**](https://www.bgc-jena.mpg.de/index.php/Main/HomePage). This dataset contains $14$ different features such as _air temperature_, _atmospheric pressure_ and _humidity_ that were collected starting in 2003 every 10 minutes (~ 420k rows). But for efficiency, you will use \"only\" the data collected between 2009 and 2016 every three hours. Indeed, this time interval seems reasonable to observe the evolution of the temperature throughout a given day.\n",
        "\n",
        "🛠 We've already performed the following feature engineering steps for you:\n",
        "- taking every $18$th record to focus on predictions every three hours $ ( 18 =  \\frac{6 records}{hour} \\times 3 hours)$\n",
        "- replacing absurd values\n",
        "- _wind_: computing the wind directions as wind vectors with coordinates (`Wx`, `Wy`)\n",
        "- computing _the daily and yearly periodicities_, stored through (`Day sin`, `Day cos`) and (`Year sin`, `Year cos`)"
      ],
      "id": "D43HhZeh9c4q"
    },
    {
      "cell_type": "markdown",
      "metadata": {
        "id": "1nKc_HBP9c4r"
      },
      "source": [
        "👇 Trust us and start from this already preprocessed dataset for this challenge 👇"
      ],
      "id": "1nKc_HBP9c4r"
    },
    {
      "cell_type": "code",
      "execution_count": 53,
      "metadata": {
        "colab": {
          "base_uri": "https://localhost:8080/",
          "height": 592
        },
        "id": "B7-0xa-w9c4r",
        "outputId": "a01366b5-e42d-4443-e80e-9d2579187861"
      },
      "outputs": [
        {
          "output_type": "execute_result",
          "data": {
            "text/plain": [
              "       p (mbar)  T (degC)  Tpot (K)  Tdew (degC)  rh (%)  VPmax (mbar)  \\\n",
              "0        996.84     -8.81    264.59        -9.66   93.50          3.13   \n",
              "1        997.71     -9.67    263.66       -10.62   92.70          2.93   \n",
              "2        999.69     -7.66    265.52        -8.84   91.20          3.43   \n",
              "3       1000.30     -6.87    266.27        -8.28   89.60          3.64   \n",
              "4        999.88     -5.69    267.48        -7.00   90.40          3.99   \n",
              "...         ...       ...       ...          ...     ...           ...   \n",
              "23358   1006.23     -6.31    266.37        -8.42   84.90          3.81   \n",
              "23359   1004.62     -0.71    272.09        -5.97   67.37          5.80   \n",
              "23360   1003.09      4.97    277.88        -3.04   56.03          8.71   \n",
              "23361   1002.27     -0.42    272.56        -4.92   71.50          5.92   \n",
              "23362   1001.19     -2.75    270.32        -6.90   72.90          4.99   \n",
              "\n",
              "       VPact (mbar)  VPdef (mbar)  sh (g/kg)  H2OC (mmol/mol)  rho (g/m**3)  \\\n",
              "0              2.93          0.20       1.83             2.94       1312.18   \n",
              "1              2.71          0.21       1.69             2.72       1317.71   \n",
              "2              3.13          0.30       1.95             3.13       1310.14   \n",
              "3              3.27          0.38       2.03             3.26       1306.98   \n",
              "4              3.61          0.38       2.25             3.61       1300.51   \n",
              "...             ...           ...        ...              ...           ...   \n",
              "23358          3.23          0.57       2.00             3.21       1312.01   \n",
              "23359          3.91          1.89       2.42             3.89       1282.65   \n",
              "23360          4.88          3.83       3.03             4.86       1254.09   \n",
              "23361          4.23          1.69       2.63             4.22       1278.14   \n",
              "23362          3.64          1.35       2.26             3.63       1288.02   \n",
              "\n",
              "             Wx        Wy    max Wx    max Wy       Day_sin       Day_cos  \\\n",
              "0     -0.175527  0.039879 -0.614344  0.139576  7.071068e-01  7.071068e-01   \n",
              "1     -0.041452  0.027960 -0.414519  0.279596  1.000000e+00  4.339955e-12   \n",
              "2     -0.314796 -0.128466 -0.583298 -0.238040  7.071068e-01 -7.071068e-01   \n",
              "3     -1.834577 -0.141163 -2.622249 -0.201771  6.903299e-12 -1.000000e+00   \n",
              "4     -0.825870  0.828758 -1.327039  1.331679 -7.071068e-01 -7.071068e-01   \n",
              "...         ...       ...       ...       ...           ...           ...   \n",
              "23358 -1.279930 -0.013404 -1.839899 -0.019268  6.755902e-01 -7.372773e-01   \n",
              "23359 -0.976457 -0.412471 -1.916066 -0.809378 -4.361939e-02 -9.990482e-01   \n",
              "23360 -0.403185 -0.359224 -0.776504 -0.691840 -7.372773e-01 -6.755902e-01   \n",
              "23361 -0.266024 -0.350473 -0.604599 -0.796530 -9.990482e-01  4.361939e-02   \n",
              "23362 -0.661501  0.257908 -1.453438  0.566672 -6.755902e-01  7.372773e-01   \n",
              "\n",
              "       Year_sin  Year_cos  \n",
              "0      0.011483  0.999934  \n",
              "1      0.013633  0.999907  \n",
              "2      0.015783  0.999875  \n",
              "3      0.017933  0.999839  \n",
              "4      0.020083  0.999798  \n",
              "...         ...       ...  \n",
              "23358 -0.000268  1.000000  \n",
              "23359  0.001883  0.999998  \n",
              "23360  0.004033  0.999992  \n",
              "23361  0.006183  0.999981  \n",
              "23362  0.008334  0.999965  \n",
              "\n",
              "[23363 rows x 19 columns]"
            ],
            "text/html": [
              "\n",
              "  <div id=\"df-2f1538ba-3167-44ed-9859-f7557b216cfd\">\n",
              "    <div class=\"colab-df-container\">\n",
              "      <div>\n",
              "<style scoped>\n",
              "    .dataframe tbody tr th:only-of-type {\n",
              "        vertical-align: middle;\n",
              "    }\n",
              "\n",
              "    .dataframe tbody tr th {\n",
              "        vertical-align: top;\n",
              "    }\n",
              "\n",
              "    .dataframe thead th {\n",
              "        text-align: right;\n",
              "    }\n",
              "</style>\n",
              "<table border=\"1\" class=\"dataframe\">\n",
              "  <thead>\n",
              "    <tr style=\"text-align: right;\">\n",
              "      <th></th>\n",
              "      <th>p (mbar)</th>\n",
              "      <th>T (degC)</th>\n",
              "      <th>Tpot (K)</th>\n",
              "      <th>Tdew (degC)</th>\n",
              "      <th>rh (%)</th>\n",
              "      <th>VPmax (mbar)</th>\n",
              "      <th>VPact (mbar)</th>\n",
              "      <th>VPdef (mbar)</th>\n",
              "      <th>sh (g/kg)</th>\n",
              "      <th>H2OC (mmol/mol)</th>\n",
              "      <th>rho (g/m**3)</th>\n",
              "      <th>Wx</th>\n",
              "      <th>Wy</th>\n",
              "      <th>max Wx</th>\n",
              "      <th>max Wy</th>\n",
              "      <th>Day_sin</th>\n",
              "      <th>Day_cos</th>\n",
              "      <th>Year_sin</th>\n",
              "      <th>Year_cos</th>\n",
              "    </tr>\n",
              "  </thead>\n",
              "  <tbody>\n",
              "    <tr>\n",
              "      <th>0</th>\n",
              "      <td>996.84</td>\n",
              "      <td>-8.81</td>\n",
              "      <td>264.59</td>\n",
              "      <td>-9.66</td>\n",
              "      <td>93.50</td>\n",
              "      <td>3.13</td>\n",
              "      <td>2.93</td>\n",
              "      <td>0.20</td>\n",
              "      <td>1.83</td>\n",
              "      <td>2.94</td>\n",
              "      <td>1312.18</td>\n",
              "      <td>-0.175527</td>\n",
              "      <td>0.039879</td>\n",
              "      <td>-0.614344</td>\n",
              "      <td>0.139576</td>\n",
              "      <td>7.071068e-01</td>\n",
              "      <td>7.071068e-01</td>\n",
              "      <td>0.011483</td>\n",
              "      <td>0.999934</td>\n",
              "    </tr>\n",
              "    <tr>\n",
              "      <th>1</th>\n",
              "      <td>997.71</td>\n",
              "      <td>-9.67</td>\n",
              "      <td>263.66</td>\n",
              "      <td>-10.62</td>\n",
              "      <td>92.70</td>\n",
              "      <td>2.93</td>\n",
              "      <td>2.71</td>\n",
              "      <td>0.21</td>\n",
              "      <td>1.69</td>\n",
              "      <td>2.72</td>\n",
              "      <td>1317.71</td>\n",
              "      <td>-0.041452</td>\n",
              "      <td>0.027960</td>\n",
              "      <td>-0.414519</td>\n",
              "      <td>0.279596</td>\n",
              "      <td>1.000000e+00</td>\n",
              "      <td>4.339955e-12</td>\n",
              "      <td>0.013633</td>\n",
              "      <td>0.999907</td>\n",
              "    </tr>\n",
              "    <tr>\n",
              "      <th>2</th>\n",
              "      <td>999.69</td>\n",
              "      <td>-7.66</td>\n",
              "      <td>265.52</td>\n",
              "      <td>-8.84</td>\n",
              "      <td>91.20</td>\n",
              "      <td>3.43</td>\n",
              "      <td>3.13</td>\n",
              "      <td>0.30</td>\n",
              "      <td>1.95</td>\n",
              "      <td>3.13</td>\n",
              "      <td>1310.14</td>\n",
              "      <td>-0.314796</td>\n",
              "      <td>-0.128466</td>\n",
              "      <td>-0.583298</td>\n",
              "      <td>-0.238040</td>\n",
              "      <td>7.071068e-01</td>\n",
              "      <td>-7.071068e-01</td>\n",
              "      <td>0.015783</td>\n",
              "      <td>0.999875</td>\n",
              "    </tr>\n",
              "    <tr>\n",
              "      <th>3</th>\n",
              "      <td>1000.30</td>\n",
              "      <td>-6.87</td>\n",
              "      <td>266.27</td>\n",
              "      <td>-8.28</td>\n",
              "      <td>89.60</td>\n",
              "      <td>3.64</td>\n",
              "      <td>3.27</td>\n",
              "      <td>0.38</td>\n",
              "      <td>2.03</td>\n",
              "      <td>3.26</td>\n",
              "      <td>1306.98</td>\n",
              "      <td>-1.834577</td>\n",
              "      <td>-0.141163</td>\n",
              "      <td>-2.622249</td>\n",
              "      <td>-0.201771</td>\n",
              "      <td>6.903299e-12</td>\n",
              "      <td>-1.000000e+00</td>\n",
              "      <td>0.017933</td>\n",
              "      <td>0.999839</td>\n",
              "    </tr>\n",
              "    <tr>\n",
              "      <th>4</th>\n",
              "      <td>999.88</td>\n",
              "      <td>-5.69</td>\n",
              "      <td>267.48</td>\n",
              "      <td>-7.00</td>\n",
              "      <td>90.40</td>\n",
              "      <td>3.99</td>\n",
              "      <td>3.61</td>\n",
              "      <td>0.38</td>\n",
              "      <td>2.25</td>\n",
              "      <td>3.61</td>\n",
              "      <td>1300.51</td>\n",
              "      <td>-0.825870</td>\n",
              "      <td>0.828758</td>\n",
              "      <td>-1.327039</td>\n",
              "      <td>1.331679</td>\n",
              "      <td>-7.071068e-01</td>\n",
              "      <td>-7.071068e-01</td>\n",
              "      <td>0.020083</td>\n",
              "      <td>0.999798</td>\n",
              "    </tr>\n",
              "    <tr>\n",
              "      <th>...</th>\n",
              "      <td>...</td>\n",
              "      <td>...</td>\n",
              "      <td>...</td>\n",
              "      <td>...</td>\n",
              "      <td>...</td>\n",
              "      <td>...</td>\n",
              "      <td>...</td>\n",
              "      <td>...</td>\n",
              "      <td>...</td>\n",
              "      <td>...</td>\n",
              "      <td>...</td>\n",
              "      <td>...</td>\n",
              "      <td>...</td>\n",
              "      <td>...</td>\n",
              "      <td>...</td>\n",
              "      <td>...</td>\n",
              "      <td>...</td>\n",
              "      <td>...</td>\n",
              "      <td>...</td>\n",
              "    </tr>\n",
              "    <tr>\n",
              "      <th>23358</th>\n",
              "      <td>1006.23</td>\n",
              "      <td>-6.31</td>\n",
              "      <td>266.37</td>\n",
              "      <td>-8.42</td>\n",
              "      <td>84.90</td>\n",
              "      <td>3.81</td>\n",
              "      <td>3.23</td>\n",
              "      <td>0.57</td>\n",
              "      <td>2.00</td>\n",
              "      <td>3.21</td>\n",
              "      <td>1312.01</td>\n",
              "      <td>-1.279930</td>\n",
              "      <td>-0.013404</td>\n",
              "      <td>-1.839899</td>\n",
              "      <td>-0.019268</td>\n",
              "      <td>6.755902e-01</td>\n",
              "      <td>-7.372773e-01</td>\n",
              "      <td>-0.000268</td>\n",
              "      <td>1.000000</td>\n",
              "    </tr>\n",
              "    <tr>\n",
              "      <th>23359</th>\n",
              "      <td>1004.62</td>\n",
              "      <td>-0.71</td>\n",
              "      <td>272.09</td>\n",
              "      <td>-5.97</td>\n",
              "      <td>67.37</td>\n",
              "      <td>5.80</td>\n",
              "      <td>3.91</td>\n",
              "      <td>1.89</td>\n",
              "      <td>2.42</td>\n",
              "      <td>3.89</td>\n",
              "      <td>1282.65</td>\n",
              "      <td>-0.976457</td>\n",
              "      <td>-0.412471</td>\n",
              "      <td>-1.916066</td>\n",
              "      <td>-0.809378</td>\n",
              "      <td>-4.361939e-02</td>\n",
              "      <td>-9.990482e-01</td>\n",
              "      <td>0.001883</td>\n",
              "      <td>0.999998</td>\n",
              "    </tr>\n",
              "    <tr>\n",
              "      <th>23360</th>\n",
              "      <td>1003.09</td>\n",
              "      <td>4.97</td>\n",
              "      <td>277.88</td>\n",
              "      <td>-3.04</td>\n",
              "      <td>56.03</td>\n",
              "      <td>8.71</td>\n",
              "      <td>4.88</td>\n",
              "      <td>3.83</td>\n",
              "      <td>3.03</td>\n",
              "      <td>4.86</td>\n",
              "      <td>1254.09</td>\n",
              "      <td>-0.403185</td>\n",
              "      <td>-0.359224</td>\n",
              "      <td>-0.776504</td>\n",
              "      <td>-0.691840</td>\n",
              "      <td>-7.372773e-01</td>\n",
              "      <td>-6.755902e-01</td>\n",
              "      <td>0.004033</td>\n",
              "      <td>0.999992</td>\n",
              "    </tr>\n",
              "    <tr>\n",
              "      <th>23361</th>\n",
              "      <td>1002.27</td>\n",
              "      <td>-0.42</td>\n",
              "      <td>272.56</td>\n",
              "      <td>-4.92</td>\n",
              "      <td>71.50</td>\n",
              "      <td>5.92</td>\n",
              "      <td>4.23</td>\n",
              "      <td>1.69</td>\n",
              "      <td>2.63</td>\n",
              "      <td>4.22</td>\n",
              "      <td>1278.14</td>\n",
              "      <td>-0.266024</td>\n",
              "      <td>-0.350473</td>\n",
              "      <td>-0.604599</td>\n",
              "      <td>-0.796530</td>\n",
              "      <td>-9.990482e-01</td>\n",
              "      <td>4.361939e-02</td>\n",
              "      <td>0.006183</td>\n",
              "      <td>0.999981</td>\n",
              "    </tr>\n",
              "    <tr>\n",
              "      <th>23362</th>\n",
              "      <td>1001.19</td>\n",
              "      <td>-2.75</td>\n",
              "      <td>270.32</td>\n",
              "      <td>-6.90</td>\n",
              "      <td>72.90</td>\n",
              "      <td>4.99</td>\n",
              "      <td>3.64</td>\n",
              "      <td>1.35</td>\n",
              "      <td>2.26</td>\n",
              "      <td>3.63</td>\n",
              "      <td>1288.02</td>\n",
              "      <td>-0.661501</td>\n",
              "      <td>0.257908</td>\n",
              "      <td>-1.453438</td>\n",
              "      <td>0.566672</td>\n",
              "      <td>-6.755902e-01</td>\n",
              "      <td>7.372773e-01</td>\n",
              "      <td>0.008334</td>\n",
              "      <td>0.999965</td>\n",
              "    </tr>\n",
              "  </tbody>\n",
              "</table>\n",
              "<p>23363 rows × 19 columns</p>\n",
              "</div>\n",
              "      <button class=\"colab-df-convert\" onclick=\"convertToInteractive('df-2f1538ba-3167-44ed-9859-f7557b216cfd')\"\n",
              "              title=\"Convert this dataframe to an interactive table.\"\n",
              "              style=\"display:none;\">\n",
              "        \n",
              "  <svg xmlns=\"http://www.w3.org/2000/svg\" height=\"24px\"viewBox=\"0 0 24 24\"\n",
              "       width=\"24px\">\n",
              "    <path d=\"M0 0h24v24H0V0z\" fill=\"none\"/>\n",
              "    <path d=\"M18.56 5.44l.94 2.06.94-2.06 2.06-.94-2.06-.94-.94-2.06-.94 2.06-2.06.94zm-11 1L8.5 8.5l.94-2.06 2.06-.94-2.06-.94L8.5 2.5l-.94 2.06-2.06.94zm10 10l.94 2.06.94-2.06 2.06-.94-2.06-.94-.94-2.06-.94 2.06-2.06.94z\"/><path d=\"M17.41 7.96l-1.37-1.37c-.4-.4-.92-.59-1.43-.59-.52 0-1.04.2-1.43.59L10.3 9.45l-7.72 7.72c-.78.78-.78 2.05 0 2.83L4 21.41c.39.39.9.59 1.41.59.51 0 1.02-.2 1.41-.59l7.78-7.78 2.81-2.81c.8-.78.8-2.07 0-2.86zM5.41 20L4 18.59l7.72-7.72 1.47 1.35L5.41 20z\"/>\n",
              "  </svg>\n",
              "      </button>\n",
              "      \n",
              "  <style>\n",
              "    .colab-df-container {\n",
              "      display:flex;\n",
              "      flex-wrap:wrap;\n",
              "      gap: 12px;\n",
              "    }\n",
              "\n",
              "    .colab-df-convert {\n",
              "      background-color: #E8F0FE;\n",
              "      border: none;\n",
              "      border-radius: 50%;\n",
              "      cursor: pointer;\n",
              "      display: none;\n",
              "      fill: #1967D2;\n",
              "      height: 32px;\n",
              "      padding: 0 0 0 0;\n",
              "      width: 32px;\n",
              "    }\n",
              "\n",
              "    .colab-df-convert:hover {\n",
              "      background-color: #E2EBFA;\n",
              "      box-shadow: 0px 1px 2px rgba(60, 64, 67, 0.3), 0px 1px 3px 1px rgba(60, 64, 67, 0.15);\n",
              "      fill: #174EA6;\n",
              "    }\n",
              "\n",
              "    [theme=dark] .colab-df-convert {\n",
              "      background-color: #3B4455;\n",
              "      fill: #D2E3FC;\n",
              "    }\n",
              "\n",
              "    [theme=dark] .colab-df-convert:hover {\n",
              "      background-color: #434B5C;\n",
              "      box-shadow: 0px 1px 3px 1px rgba(0, 0, 0, 0.15);\n",
              "      filter: drop-shadow(0px 1px 2px rgba(0, 0, 0, 0.3));\n",
              "      fill: #FFFFFF;\n",
              "    }\n",
              "  </style>\n",
              "\n",
              "      <script>\n",
              "        const buttonEl =\n",
              "          document.querySelector('#df-2f1538ba-3167-44ed-9859-f7557b216cfd button.colab-df-convert');\n",
              "        buttonEl.style.display =\n",
              "          google.colab.kernel.accessAllowed ? 'block' : 'none';\n",
              "\n",
              "        async function convertToInteractive(key) {\n",
              "          const element = document.querySelector('#df-2f1538ba-3167-44ed-9859-f7557b216cfd');\n",
              "          const dataTable =\n",
              "            await google.colab.kernel.invokeFunction('convertToInteractive',\n",
              "                                                     [key], {});\n",
              "          if (!dataTable) return;\n",
              "\n",
              "          const docLinkHtml = 'Like what you see? Visit the ' +\n",
              "            '<a target=\"_blank\" href=https://colab.research.google.com/notebooks/data_table.ipynb>data table notebook</a>'\n",
              "            + ' to learn more about interactive tables.';\n",
              "          element.innerHTML = '';\n",
              "          dataTable['output_type'] = 'display_data';\n",
              "          await google.colab.output.renderOutput(dataTable, element);\n",
              "          const docLink = document.createElement('div');\n",
              "          docLink.innerHTML = docLinkHtml;\n",
              "          element.appendChild(docLink);\n",
              "        }\n",
              "      </script>\n",
              "    </div>\n",
              "  </div>\n",
              "  "
            ]
          },
          "metadata": {},
          "execution_count": 53
        }
      ],
      "source": [
        "url = \"https://wagon-public-datasets.s3.amazonaws.com/deep_learning_datasets/weather_every_three_hours_engineered.csv\"\n",
        "df = pd.read_csv(url).drop(columns = ['Unnamed: 0'])\n",
        "df"
      ],
      "id": "B7-0xa-w9c4r"
    },
    {
      "cell_type": "markdown",
      "metadata": {
        "id": "cSwDMxEO9c4r"
      },
      "source": [
        "👆 In the preprocessed dataset, we have :\n",
        "- $23$k rows  (~ 8 years of weather data)\n",
        "- $19$ features composed of:\n",
        "    - $1$ <font color=green>**target**</font> (we will use the past values of the temperature as a feature)\n",
        "    - $18$ <font color=orange>**past covariates**</font> (= features which past values are known)\n",
        "    - $0$ <font color=blue>**future covariates**</font> (= features which future values are known, e.g. public holidays)\n",
        "\n",
        "    \n",
        "<img src='https://github.com/lewagon/data-images/blob/master/DL/time-series-covariates.png?raw=true'>\n",
        "\n",
        "👨🏻‍🏫 This weather dataset is a DataFrame (dimension = 2) which is a single Time Series from the beginning of 2009 to the end 2016 with records every 3 hours.\n",
        "\n",
        "* `df.shape = (n_timesteps, n_features) = (23363, 19)`\n",
        "\n",
        "<details>\n",
        "    <summary>We have in total 8 years of data</summary>\n",
        "\n",
        "$ \\frac{23363 records}{365 \\frac{days}{year} \\times 24 \\frac{hours}{day} \\times \\frac{1 record}{3 hours}} = \\frac{23363 records}{2920 \\frac{records}{year}} = 8 years = (2016 - 2009 + 1 ) years$\n",
        "    \n",
        "</details>\n",
        "\n",
        "🎯 The goal is to predict the temperature in 3, 6, 9, 12, ... hours using the past values."
      ],
      "id": "cSwDMxEO9c4r"
    },
    {
      "cell_type": "code",
      "execution_count": 54,
      "metadata": {
        "id": "cM4xBcAd9c4s"
      },
      "outputs": [],
      "source": [
        "# Let's define the global variables of our dataset\n",
        "TARGET = 'T (degC)'\n",
        "N_TARGETS = 1\n",
        "N_FEATURES = 19"
      ],
      "id": "cM4xBcAd9c4s"
    },
    {
      "cell_type": "markdown",
      "metadata": {
        "id": "Hs7VqMAt9c4s"
      },
      "source": [
        "### (0.0.2) Visualising your Time Series"
      ],
      "id": "Hs7VqMAt9c4s"
    },
    {
      "cell_type": "markdown",
      "metadata": {
        "id": "RsjkicWT9c4s"
      },
      "source": [
        "📈  Here is the ***evolution of some features over time***:\n",
        "* `T (degC)` (temperature)\n",
        "* `p (mbar)` (atmospheric pressure)\n",
        "* `rho (g/m**3)` (atmospheric density)\n",
        "\n"
      ],
      "id": "RsjkicWT9c4s"
    },
    {
      "cell_type": "code",
      "execution_count": 55,
      "metadata": {
        "colab": {
          "base_uri": "https://localhost:8080/",
          "height": 265
        },
        "id": "XPRqqlQ79c4t",
        "outputId": "44088ab7-7ad9-4089-f6f4-afbdaffac065"
      },
      "outputs": [
        {
          "output_type": "display_data",
          "data": {
            "text/plain": [
              "<Figure size 432x288 with 3 Axes>"
            ],
            "image/png": "[encoded data removed]"
          },
          "metadata": {
            "needs_background": "light"
          }
        }
      ],
      "source": [
        "plot_cols = [TARGET, 'p (mbar)', 'rho (g/m**3)']\n",
        "plot_features = df[plot_cols]\n",
        "plot_features.index = df.index\n",
        "plot_features.plot(subplots = True);"
      ],
      "id": "XPRqqlQ79c4t"
    },
    {
      "cell_type": "code",
      "execution_count": 56,
      "metadata": {
        "colab": {
          "base_uri": "https://localhost:8080/",
          "height": 265
        },
        "id": "U7cHNnwK9c4t",
        "outputId": "4353c8a0-f017-4cc1-fb3f-b4560b61528f"
      },
      "outputs": [
        {
          "output_type": "display_data",
          "data": {
            "text/plain": [
              "<Figure size 432x288 with 3 Axes>"
            ],
            "image/png": "[encoded data removed]"
          },
          "metadata": {
            "needs_background": "light"
          }
        }
      ],
      "source": [
        "zoomed_slice = slice(1000,1100)\n",
        "\n",
        "plot_features = df.loc[zoomed_slice, plot_cols]\n",
        "plot_features.plot(subplots = True);"
      ],
      "id": "U7cHNnwK9c4t"
    },
    {
      "cell_type": "markdown",
      "metadata": {
        "id": "_ENyYAXr9c4t"
      },
      "source": [
        "# (1) Prepare the dataset"
      ],
      "id": "_ENyYAXr9c4t"
    },
    {
      "cell_type": "markdown",
      "metadata": {
        "id": "cTbc3IwT9c4t"
      },
      "source": [
        "##  (1.0) The big picture"
      ],
      "id": "cTbc3IwT9c4t"
    },
    {
      "cell_type": "markdown",
      "metadata": {
        "id": "wC_wVEGS9c4t"
      },
      "source": [
        "<b><u>Step 1: Cross-Validation in Time Series [FOLDS] </u></b>\n",
        "\n",
        "* Starting from this single Time Series, we will create <font color=\"#c91ac9\">**FOLDS**</font>...\n",
        "* ... and train/evaluate our LSTM on these different <font color=\"#c91ac9\">**FOLDS**</font> to conclude about the robustness of the neural network\n",
        "* It is very common to create ***hundreds*** of <font color=\"#c91ac9\">**FOLDS**</font> in Time Series forecasting, in order to cover all types of external conditions: e.g.\n",
        "    - crash market periods 📉\n",
        "    - bull markets 📈\n",
        "    - atone markets 😴, etc...\n",
        "\n",
        "<b><u>Step 2: Holdout method within each fold [TRAIN-TEST SPLIT]</u></b>\n",
        "\n",
        "* For each <font color=\"#c91ac9\">**FOLD**</font>, we will do a TRAIN-TEST SPLIT to:\n",
        "    * <font color=blue>**fit**</font> the model on the <font color=blue>**train**</font> set \n",
        "    * and <font color=\"#ff8005\">**evaluate**</font> it on the <font color=\"#ff8005\">**test**</font> set\n",
        "    * Always split the train set **chronologically** before the test set!\n",
        "\n",
        "👇 The first two steps can be summarized in the following image that contains 4 FOLDS:\n",
        "\n",
        "<img src=\"https://bit.ly/3yLoa92\" alt=\"Time Series Cross Validation\" width=\"500\" height=\"500\">\n",
        "\n",
        "\n",
        "<b><u>Step 3: Sampling SEQUENCES in both the train set and the test set</u></b>\n",
        "\n",
        "In each <font color=blue>**train**</font> set and each <font color=\"#ff8005\">**test**</font> set, we will create <font color=magenta>**random sequences**</font> as illustrated down below 👇:\n",
        "\n",
        "<img src=\"https://bit.ly/3Ri8Vfd\" alt=\"Sequences in each fold\" width=\"500\" height=\"500\"> \n",
        "\n"
      ],
      "id": "wC_wVEGS9c4t"
    },
    {
      "cell_type": "markdown",
      "metadata": {
        "id": "zWyc-x4p9c4u"
      },
      "source": [
        "## (1.1) 💻 Creating  <font color=\"#c91ac9\">**FOLDS**</font> for cross-validation\n",
        "\n",
        "Each of them with shape `(FOLD_LENGTH, n_features)` "
      ],
      "id": "zWyc-x4p9c4u"
    },
    {
      "cell_type": "markdown",
      "metadata": {
        "id": "-FdLmR289c4u"
      },
      "source": [
        "🌐 Let's define some global variables that we will use for our tests everywhere in this notebook:"
      ],
      "id": "-FdLmR289c4u"
    },
    {
      "cell_type": "code",
      "execution_count": 57,
      "metadata": {
        "id": "rQKzeB0w9c4u"
      },
      "outputs": [],
      "source": [
        "# --------------------------------------------------- #\n",
        "# Let's consider FOLDS with a length of 3 years       #\n",
        "# (2 years will be used for train, 1 for test!)       #\n",
        "# --------------------------------------------------- #\n",
        "\n",
        "FOLD_LENGTH = 8*365 * 3 # every 3 hrs x 8 = 24h\n",
        "                        # three years\n",
        "\n",
        "# --------------------------------------------------- #\n",
        "# Let's consider FOLDS starting every trimester       #\n",
        "# --------------------------------------------------- #\n",
        "    \n",
        "FOLD_STRIDE = 8*91 # every 3 hrs x 8 = 24h\n",
        "                   # 1 quarter = 91 days\n",
        "\n",
        "# --------------------------------------------------- #\n",
        "# Let's consider a train-test-split ratio of 2/3      #\n",
        "# --------------------------------------------------- #\n",
        "\n",
        "TRAIN_TEST_RATIO = 0.66"
      ],
      "id": "rQKzeB0w9c4u"
    },
    {
      "cell_type": "markdown",
      "metadata": {
        "id": "NOt9tuun9c4u"
      },
      "source": [
        "💻 ❓ **Question (<font color=\"#c91ac9\">FOLDS</font>)** ❓\n",
        "\n",
        "Code the function `get_folds` below that we will use to create folds  `folds = get_folds(df, FOLD_LENGTH, FOLD_STRIDE)`"
      ],
      "id": "NOt9tuun9c4u"
    },
    {
      "cell_type": "code",
      "execution_count": 93,
      "metadata": {
        "id": "qJVPdG809c4u"
      },
      "outputs": [],
      "source": [
        "def get_folds(\n",
        "    df: pd.DataFrame,\n",
        "    fold_length: int,\n",
        "    fold_stride: int) -> List[pd.DataFrame]:\n",
        "    '''\n",
        "    This function slides through the Time Series dataframe of shape (n_timesteps, n_features) to create folds\n",
        "    - of equal `fold_length`\n",
        "    - using `fold_stride` between each fold\n",
        "    \n",
        "    Returns a list of folds, each as a DataFrame\n",
        "    '''\n",
        "    folds = [df[i:fold_length+i] for i in np.arange(0,df.shape[0],fold_stride)]\n",
        "    folds = [fold for fold in folds if fold.shape[0] == fold_length]\n",
        "    return folds"
      ],
      "id": "qJVPdG809c4u"
    },
    {
      "cell_type": "markdown",
      "metadata": {
        "id": "t8NYBFBV9c4v"
      },
      "source": [
        "🧪 ***Test your code***"
      ],
      "id": "t8NYBFBV9c4v"
    },
    {
      "cell_type": "code",
      "execution_count": 94,
      "metadata": {
        "colab": {
          "base_uri": "https://localhost:8080/"
        },
        "id": "vHHyMSNa9c4v",
        "outputId": "329557c0-02c2-4e9f-b455-6079d04daf74"
      },
      "outputs": [
        {
          "output_type": "stream",
          "name": "stdout",
          "text": [
            "The function generated 21 folds.\n",
            "Each fold has a shape equal to (8760, 19).\n"
          ]
        }
      ],
      "source": [
        "folds = get_folds(df, FOLD_LENGTH, FOLD_STRIDE)\n",
        "\n",
        "print(f'The function generated {len(folds)} folds.')\n",
        "print(f'Each fold has a shape equal to {folds[0].shape}.')"
      ],
      "id": "vHHyMSNa9c4v"
    },
    {
      "cell_type": "code",
      "execution_count": 95,
      "metadata": {
        "colab": {
          "base_uri": "https://localhost:8080/"
        },
        "id": "vrlCR2wW9c4v",
        "outputId": "44689eb4-2dde-4027-c5d7-8b51a55d8666"
      },
      "outputs": [
        {
          "output_type": "stream",
          "name": "stdout",
          "text": [
            "\n",
            "\u001b[1m============================= test session starts ==============================\u001b[0m\n",
            "platform linux -- Python 3.7.15, pytest-3.6.4, py-1.11.0, pluggy-0.7.1 -- /usr/bin/python3\n",
            "cachedir: .pytest_cache\n",
            "rootdir: /content/drive/MyDrive/Colab Notebooks/data-predict-temperature/tests, inifile:\n",
            "plugins: typeguard-2.7.1\n",
            "\u001b[1mcollecting ... \u001b[0mcollected 2 items\n",
            "\n",
            "test_folds.py::TestFolds::test_variable_fold_shape \u001b[32mPASSED\u001b[0m\u001b[36m                [ 50%]\u001b[0m\n",
            "test_folds.py::TestFolds::test_variable_number_of_folds \u001b[32mPASSED\u001b[0m\u001b[36m           [100%]\u001b[0m\n",
            "\n",
            "\u001b[32m\u001b[1m=========================== 2 passed in 0.06 seconds ===========================\u001b[0m\n",
            "\n",
            "\n",
            "💯 You can commit your code:\n",
            "\n",
            "\u001b[1;32mgit\u001b[39m add tests/folds.pickle\n",
            "\n",
            "\u001b[32mgit\u001b[39m commit -m \u001b[33m'Completed folds step'\u001b[39m\n",
            "\n",
            "\u001b[32mgit\u001b[39m push origin master\n",
            "\n"
          ]
        }
      ],
      "source": [
        "from nbresult import ChallengeResult\n",
        "\n",
        "result = ChallengeResult('folds',\n",
        "                         number_of_folds = len(folds),\n",
        "                         fold_shape = folds[0].shape)\n",
        "result.write()\n",
        "print(result.check())"
      ],
      "id": "vrlCR2wW9c4v"
    },
    {
      "cell_type": "markdown",
      "metadata": {
        "id": "Qf6tOwO49c4v"
      },
      "source": [
        "☝️ This amount of <font color=\"#c91ac9\">**FOLDS**</font> should be enough to cross-validate our model correctly !"
      ],
      "id": "Qf6tOwO49c4v"
    },
    {
      "cell_type": "markdown",
      "metadata": {
        "id": "uvmLrBjQ9c4v"
      },
      "source": [
        "## (1.2) 💻 Temporal <font color=blue>**Train**</font>/<font color=\"#ff8005\">**Test**</font> Split"
      ],
      "id": "uvmLrBjQ9c4v"
    },
    {
      "cell_type": "markdown",
      "metadata": {
        "id": "72rNn-aI9c4w"
      },
      "source": [
        "👩🏻‍🏫 Let's focus on one fold for the moment."
      ],
      "id": "72rNn-aI9c4w"
    },
    {
      "cell_type": "code",
      "execution_count": null,
      "metadata": {
        "id": "5RmrHRrK9c4w"
      },
      "outputs": [],
      "source": [
        "fold = folds[0]\n",
        "fold"
      ],
      "id": "5RmrHRrK9c4w"
    },
    {
      "cell_type": "markdown",
      "metadata": {
        "id": "hKzmIIhn9c4w"
      },
      "source": [
        "☝️ We want to split this fold **chronologically** into:\n",
        "\n",
        "- a <font color=blue>train</font> dataframe\n",
        "- a <font color=\"#ff8005\">test</font> dataframe\n",
        "\n",
        "that will contain all the data we need to be able to sample many `(X_i, y_i)` pairs in each dataframe in a next step! "
      ],
      "id": "hKzmIIhn9c4w"
    },
    {
      "cell_type": "markdown",
      "metadata": {
        "id": "e2eO60DR9c4w"
      },
      "source": [
        "The `INPUT_LENGTH` of each `X_i` is going to be equal to 2 weeks (it is quite a common period for weather forecasting)"
      ],
      "id": "e2eO60DR9c4w"
    },
    {
      "cell_type": "code",
      "execution_count": null,
      "metadata": {
        "id": "YM3UuJqs9c4w"
      },
      "outputs": [],
      "source": [
        "INPUT_LENGTH = 8 * 14 # records every 3 hours x 8 = 24 hours\n",
        "                      # two weeks"
      ],
      "id": "YM3UuJqs9c4w"
    },
    {
      "cell_type": "markdown",
      "metadata": {
        "id": "Td2L2ikg9c4x"
      },
      "source": [
        "💻 ❓ **Question (temporal <font color=blue>train</font>-<font color=orange>test</font> split)** ❓\n",
        "\n",
        "Code the function `train_test_split` down below which:\n",
        "- <i>(input)</i> given a `fold` (like above), a `train_test_ratio` (e.g 0.8) and an `input_length` (fixed)\n",
        "- <i>(output)</i> a tuple of (`fold_train`, `fold_test`) dataframes\n",
        "\n",
        "\n",
        "<details>\n",
        "    <summary><i>Hints to avoid data leakage</i></summary>\n",
        "\n",
        "- `fold_train` last index will become the last `y_train` later on\n",
        "- `fold_test` first index will be used to create the first `X_test`\n",
        "- To avoid data leakage, `y_train_last` should be JUST before `y_test_first`\n",
        "\n",
        "<img src=\"https://github.com/lewagon/data-images/blob/master/DL/explanations_for_train_test_split_temporal.png?raw=true\" alt=\"train_test_split_temporal\" width=\"500\" height=\"500\"> \n",
        "    \n",
        "</details>    "
      ],
      "id": "Td2L2ikg9c4x"
    },
    {
      "cell_type": "code",
      "execution_count": null,
      "metadata": {
        "id": "bUG35mms9c4x"
      },
      "outputs": [],
      "source": [
        "def train_test_split(fold:pd.DataFrame,\n",
        "                     train_test_ratio: float,\n",
        "                     input_length: int) -> Tuple[pd.DataFrame]:\n",
        "    '''\n",
        "    Returns a train dataframe and a test dataframe (fold_train, fold_test)\n",
        "    from which one can sample (X,y) sequences.\n",
        "    df_train should contain all the timesteps until round(train_test_ratio * len(fold))   \n",
        "    '''\n",
        "    pass  # YOUR CODE HERE"
      ],
      "id": "bUG35mms9c4x"
    },
    {
      "cell_type": "markdown",
      "metadata": {
        "id": "FAJ5Uf_B9c4x"
      },
      "source": [
        "🧪 ***Test your code***"
      ],
      "id": "FAJ5Uf_B9c4x"
    },
    {
      "cell_type": "code",
      "execution_count": null,
      "metadata": {
        "id": "Tv7jASHf9c4x"
      },
      "outputs": [],
      "source": [
        "(fold_train, fold_test) = train_test_split(fold, TRAIN_TEST_RATIO, INPUT_LENGTH)"
      ],
      "id": "Tv7jASHf9c4x"
    },
    {
      "cell_type": "code",
      "execution_count": null,
      "metadata": {
        "id": "yP7MnYe79c4x"
      },
      "outputs": [],
      "source": [
        "from nbresult import ChallengeResult\n",
        "\n",
        "result = ChallengeResult('holdout',\n",
        "                         train_index_start = fold_train.index.start,\n",
        "                         train_index_stop = fold_train.index.stop,\n",
        "                         test_index_start = fold_test.index.start,\n",
        "                         test_index_stop = fold_test.index.stop)\n",
        "result.write()\n",
        "print(result.check())"
      ],
      "id": "yP7MnYe79c4x"
    },
    {
      "cell_type": "markdown",
      "metadata": {
        "id": "m_SGInzv9c4x"
      },
      "source": [
        "## (1.3) 💻 Create (X, y) sequences"
      ],
      "id": "m_SGInzv9c4x"
    },
    {
      "cell_type": "markdown",
      "metadata": {
        "id": "3JCUeixo9c4x"
      },
      "source": [
        "Now that we have splitted our fold into a <font color=\"blue\">train</font> set and a <font color=\"#ff8005\">test</font> set, it is time to:\n",
        "- 🏋 sample lots of sequences $(X_i, y_i)$ on which the model will be <font color=\"blue\">trained</font>\n",
        "- 👩🏻‍🏫 sample lots of sequences $(X_i, y_i)$ on which the model will be <font color=\"#ff8005\">evaluated</font>\n",
        "\n",
        "<img src=\"https://bit.ly/3Ri8Vfd\" alt=\"Sequences in each fold\" width=\"300\" height=\"300\"> \n",
        "\n",
        "🎯 Our goal is to create 3D-arrays `(X_train, y_train)` and `(X_test, y_test)` containing all the SEQUENCES we need from this fold:\n",
        "\n",
        "* `X_train.shape = (n_samples_train, input_length, n_features)`\n",
        "* `y_train.shape = (n_samples_train, output_length, n_targets)`\n",
        "\n",
        "👉 Notice that we are now dealing with **3D arrays** instead of **2D DataFrames** time-series\n",
        "\n",
        "<img src=\"https://bit.ly/3bOhKNj\" alt=\"3d arrays time series\" width=\"1200\" height=\"800\"> "
      ],
      "id": "3JCUeixo9c4x"
    },
    {
      "cell_type": "code",
      "execution_count": null,
      "metadata": {
        "id": "g0HXoEgJ9c4y"
      },
      "outputs": [],
      "source": [
        "# INPUT X\n",
        "print(f'N_FEATURES = {N_FEATURES}')\n",
        "print(f'INPUT_LENGTH = {INPUT_LENGTH} timesteps = {int(INPUT_LENGTH/8)} days = {int(INPUT_LENGTH/8/7)} weeks')"
      ],
      "id": "g0HXoEgJ9c4y"
    },
    {
      "cell_type": "markdown",
      "metadata": {
        "id": "PQGF6AdY9c4y"
      },
      "source": [
        "☝️ `X` is the **input** of our model. \n",
        "- It contains $19$ features: the past values of the <font color=green>**target**</font> + $18$ <font color=orange>**past-covariates**</font>\n",
        "- Each sequence has a length equal to $112$ timesteps (=$2$ weeks)"
      ],
      "id": "PQGF6AdY9c4y"
    },
    {
      "cell_type": "code",
      "execution_count": null,
      "metadata": {
        "id": "DjciEJep9c4y"
      },
      "outputs": [],
      "source": [
        "# TARGET Y\n",
        "print(f'N_TARGETS = {N_TARGETS}')\n",
        "\n",
        "# Let's only predict 1 value ahead of us\n",
        "OUTPUT_LENGTH = 1\n",
        "print(f'OUTPUT_LENGTH = {OUTPUT_LENGTH}')"
      ],
      "id": "DjciEJep9c4y"
    },
    {
      "cell_type": "markdown",
      "metadata": {
        "id": "6HPDbPoX9c4y"
      },
      "source": [
        "☝️ `y` is the <font color=green>**target**</font> that we want to predic:t\n",
        "- It is the value at the single next timestep (= 3 hours later)\n",
        "- We could also predict `OUTPUT_LENGTH > 1`, i.e several values in the future _(3 hours later, 6 hours later, 9 hours later, ...)_ but let's keep it simple here and just try to predict the next point (in 3 hours)"
      ],
      "id": "6HPDbPoX9c4y"
    },
    {
      "cell_type": "markdown",
      "metadata": {
        "id": "b4Z7UeBg9c4y"
      },
      "source": [
        "💡 To create these SEQUENCES within the <font color=\"blue\">train</font> set and the <font color=\"#ff8005\">test</font> set, you have several options, among them:\n",
        "- 🎲 <u><i>Option 1</i></u>: creating these sequences by randomly sampling $(X_i, y_i)$ from <font color=\"blue\">fold_train</font> and <font color=\"#ff8005\">fold_test</font>.\n",
        "- ⌚️ <u><i>Option 2</i></u>: scanning a fold chronologically and create all the possible pairs $(X_i, y_i)$. \n",
        " \n",
        "\n",
        "👉 Let's focus on the first option: random sampling\n",
        "\n",
        "🎁 If you want to scan the folds chronologically, we provided the solution in the section and you can come back to it later\n"
      ],
      "id": "b4Z7UeBg9c4y"
    },
    {
      "cell_type": "markdown",
      "metadata": {
        "id": "3NFt4IIr9c4y"
      },
      "source": [
        "### (1.2.1) 💻 Option 1: Create (X, y) by random sampling in each split"
      ],
      "id": "3NFt4IIr9c4y"
    },
    {
      "cell_type": "markdown",
      "metadata": {
        "id": "vZ7ZpG1Y9c4y"
      },
      "source": [
        "👇 We will code:\n",
        "\n",
        "* 1️⃣ a function `get_Xi_yi` to generate a single sequence randomly from within a fold\n",
        "\n",
        "* 2️⃣ a function `get_X_y` to generate 3D-arrays containing multiple sequences from a fold, calling the first function `get_Xi_yi` many times over"
      ],
      "id": "vZ7ZpG1Y9c4y"
    },
    {
      "cell_type": "markdown",
      "metadata": {
        "id": "yjqkq32J9c4y"
      },
      "source": [
        "#### (1.2.2.1) 💻 Generating one random sequence"
      ],
      "id": "yjqkq32J9c4y"
    },
    {
      "cell_type": "markdown",
      "metadata": {
        "id": "OMZh-9kr9c4y"
      },
      "source": [
        "<img src=\"https://github.com/lewagon/data-images/blob/master/DL/get_xi_yi.png?raw=true\" alt=\"one sequence\" width=\"400\" height=\"400\"> "
      ],
      "id": "OMZh-9kr9c4y"
    },
    {
      "cell_type": "markdown",
      "metadata": {
        "id": "ghyHH-q59c4z"
      },
      "source": [
        "💻 ❓ **Question (extracting a random sequence from a fold)** ❓\n",
        "\n",
        "Code the function `get_Xi_yi` down below which:\n",
        "- <i>(input)</i> given a fold, an `input_length` and an `output_length`\n",
        "- <i>(output)</i> returns a sequence $(X_i,y_i)$"
      ],
      "id": "ghyHH-q59c4z"
    },
    {
      "cell_type": "code",
      "execution_count": null,
      "metadata": {
        "id": "yqzQvPx99c4z"
      },
      "outputs": [],
      "source": [
        "def get_Xi_yi(\n",
        "    fold:pd.DataFrame, \n",
        "    input_length:int, \n",
        "    output_length:int):\n",
        "    '''\n",
        "    - given a fold, it returns one sequence (X_i, y_i)\n",
        "    - with the starting point of the sequence being chosen at random\n",
        "    '''\n",
        "    pass  # YOUR CODE HERE"
      ],
      "id": "yqzQvPx99c4z"
    },
    {
      "cell_type": "markdown",
      "metadata": {
        "id": "q5cbI4kr9c4z"
      },
      "source": [
        "🧪 ***Test your code below***"
      ],
      "id": "q5cbI4kr9c4z"
    },
    {
      "cell_type": "code",
      "execution_count": null,
      "metadata": {
        "id": "9FQOHmPL9c4z"
      },
      "outputs": [],
      "source": [
        "X_train_i, y_train_i = get_Xi_yi(fold_train, INPUT_LENGTH, OUTPUT_LENGTH)\n",
        "X_test_i, y_test_i = get_Xi_yi(fold_test, INPUT_LENGTH, OUTPUT_LENGTH)"
      ],
      "id": "9FQOHmPL9c4z"
    },
    {
      "cell_type": "code",
      "execution_count": null,
      "metadata": {
        "id": "YbKH7hLL9c4z"
      },
      "outputs": [],
      "source": [
        "from nbresult import ChallengeResult\n",
        "\n",
        "result = ChallengeResult('sequence',\n",
        "                         x_train_i_shape = X_train_i.shape,\n",
        "                         y_train_i_shape = y_train_i.shape,\n",
        "                         x_test_i_shape = X_test_i.shape,\n",
        "                         y_test_i_shape = y_test_i.shape)\n",
        "result.write()\n",
        "print(result.check())"
      ],
      "id": "YbKH7hLL9c4z"
    },
    {
      "cell_type": "code",
      "execution_count": null,
      "metadata": {
        "id": "fkco4-yf9c4z"
      },
      "outputs": [],
      "source": [
        "# Advanced check 😈 \n",
        "# You should not allow some truncated (X_i,y_i) pairs to be generating,\n",
        "# should you start sampling too close from the end of the fold... !\n",
        "\n",
        "X_last, y_last = get_Xi_yi(fold_test, input_length=len(fold_test)-1, output_length=OUTPUT_LENGTH)\n",
        "assert y_last.values == fold_test.iloc[-1,:][TARGET]"
      ],
      "id": "fkco4-yf9c4z"
    },
    {
      "cell_type": "markdown",
      "metadata": {
        "id": "HeNhqOhx9c4z"
      },
      "source": [
        "#### (1.2.2.2) 💻 Generating multiple random sequences"
      ],
      "id": "HeNhqOhx9c4z"
    },
    {
      "cell_type": "markdown",
      "metadata": {
        "id": "4t0z05W89c4z"
      },
      "source": [
        "<img src=\"https://bit.ly/3Ri8Vfd\" alt=\"Sequences in each fold\" width=\"500\" height=\"500\"> "
      ],
      "id": "4t0z05W89c4z"
    },
    {
      "cell_type": "markdown",
      "metadata": {
        "id": "8SI7nKGi9c4z"
      },
      "source": [
        "💻 ❓ **Question (extracting multiple random sequence from a fold)** ❓\n",
        "\n",
        "Code the function `get_X_y` down below which:\n",
        "- <i>(input)</i> given a fold, a `number_of_sequences` an `input_length` and an `output_length`\n",
        "- <i>(output)</i> returns $(X,y)$ \n",
        "\n",
        "_Don't forget to use the `get_Xi_yi` function that you have just coded!_"
      ],
      "id": "8SI7nKGi9c4z"
    },
    {
      "cell_type": "code",
      "execution_count": null,
      "metadata": {
        "id": "btFO29ZU9c40"
      },
      "outputs": [],
      "source": [
        "def get_X_y(\n",
        "    fold:pd.DataFrame,\n",
        "    number_of_sequences:int,\n",
        "    input_length:int,\n",
        "    output_length:int\n",
        "):\n",
        "    pass  # YOUR CODE HERE"
      ],
      "id": "btFO29ZU9c40"
    },
    {
      "cell_type": "markdown",
      "metadata": {
        "id": "5B08ODZ_9c40"
      },
      "source": [
        "🧪 ***Test your code***"
      ],
      "id": "5B08ODZ_9c40"
    },
    {
      "cell_type": "code",
      "execution_count": null,
      "metadata": {
        "id": "54kGYQrE9c40"
      },
      "outputs": [],
      "source": [
        "N_TRAIN = 6666 # number_of_sequences_train\n",
        "N_TEST =  3333 # number_of_sequences_test\n",
        "\n",
        "X_train, y_train = get_X_y(fold_train, N_TRAIN, INPUT_LENGTH, OUTPUT_LENGTH)\n",
        "X_test, y_test = get_X_y(fold_test, N_TEST, INPUT_LENGTH, OUTPUT_LENGTH)"
      ],
      "id": "54kGYQrE9c40"
    },
    {
      "cell_type": "code",
      "execution_count": null,
      "metadata": {
        "id": "jM0FUDrC9c40"
      },
      "outputs": [],
      "source": [
        "from nbresult import ChallengeResult\n",
        "\n",
        "result = ChallengeResult('multiple_sequences',\n",
        "                         x_train_shape = X_train.shape,\n",
        "                         y_train_shape = y_train.shape,\n",
        "                         x_test_shape = X_test.shape,\n",
        "                         y_test_shape = y_test.shape)\n",
        "result.write()\n",
        "print(result.check())"
      ],
      "id": "jM0FUDrC9c40"
    },
    {
      "cell_type": "markdown",
      "metadata": {
        "id": "e8V787iE9c40"
      },
      "source": [
        "### (1.2.2) (Don't read this now, keep for later) 🎁 Option 2: Scanning  chronologically"
      ],
      "id": "e8V787iE9c40"
    },
    {
      "cell_type": "markdown",
      "metadata": {
        "id": "z8COwpiC9c40"
      },
      "source": [
        "As stated earlier, there are multiple ways to extract sequences from a fold. \n",
        "\n",
        "- 🎲 In the previous section, you coded:\n",
        "    - `get_Xi_yi` which randomly samples _one_ sequence \n",
        "    - and `get_X_y` which randomly generates _multiple_ sequences\n",
        "\n",
        "- ⌚️ In this section, we provide you a unique function `get_X_y_strides`.\n",
        "    - It scans a fold chronologically based on:\n",
        "         - an `input_length` (let's still use `INPUT_LENGTH = 8 * 14`, i.e. two weeks) \n",
        "         - and a `sequence_stride` (think about a one-dimensional convolutional operation!)"
      ],
      "id": "z8COwpiC9c40"
    },
    {
      "cell_type": "markdown",
      "metadata": {
        "id": "7VlWCHHq9c40"
      },
      "source": [
        "👉 Let's scan the fold with a temporal stride of 3 hours (the minimum one):"
      ],
      "id": "7VlWCHHq9c40"
    },
    {
      "cell_type": "code",
      "execution_count": null,
      "metadata": {
        "id": "z47Vx-cH9c40"
      },
      "outputs": [],
      "source": [
        "SEQUENCE_STRIDE = 1"
      ],
      "id": "z47Vx-cH9c40"
    },
    {
      "cell_type": "code",
      "execution_count": null,
      "metadata": {
        "id": "aop8TKVd9c40"
      },
      "outputs": [],
      "source": [
        "def get_X_y_strides(fold: pd.DataFrame, input_length: int, output_length: int, sequence_stride: int):\n",
        "    '''\n",
        "    - slides through a `fold` Time Series (2D array) to create sequences of equal\n",
        "        * `input_length` for X,\n",
        "        * `output_length` for y,\n",
        "    using a temporal gap `sequence_stride` between each sequence\n",
        "    - returns a list of sequences, each as a 2D-array time series\n",
        "    '''\n",
        "\n",
        "    X, y = [], []\n",
        "\n",
        "    for i in range(0, len(fold), sequence_stride):\n",
        "        # Exits the loop as soon as the last fold index would exceed the last index\n",
        "        if (i + input_length + output_length) > len(fold):\n",
        "            break\n",
        "        X_i = fold.iloc[i:i + input_length, :]\n",
        "        y_i = fold.iloc[i + input_length:i + input_length + output_length, :][[TARGET]]\n",
        "        X.append(X_i)\n",
        "        y.append(y_i)\n",
        "\n",
        "    return np.array(X), np.array(y)"
      ],
      "id": "aop8TKVd9c40"
    },
    {
      "cell_type": "markdown",
      "metadata": {
        "id": "x7ruh7xI9c41"
      },
      "source": [
        "🧑🏻‍🎓 Some clarifications about scanning a fold sequentially :"
      ],
      "id": "x7ruh7xI9c41"
    },
    {
      "cell_type": "code",
      "execution_count": null,
      "metadata": {
        "id": "L3ag1SoC9c41"
      },
      "outputs": [],
      "source": [
        "print(\"FOLD_LENGTH\") \n",
        "print(f\"= {FOLD_LENGTH} timesteps\")\n",
        "print(f\"= {int(FOLD_LENGTH/8)} days\") # 8 records per day, every 3 hours\n",
        "print(f\"= {int(FOLD_LENGTH/8/7)} weeks\")"
      ],
      "id": "L3ag1SoC9c41"
    },
    {
      "cell_type": "code",
      "execution_count": null,
      "metadata": {
        "id": "AYvDUgZN9c41"
      },
      "outputs": [],
      "source": [
        "X_train, y_train = get_X_y_strides(fold_train, INPUT_LENGTH, OUTPUT_LENGTH, SEQUENCE_STRIDE)\n",
        "X_test, y_test = get_X_y_strides(fold_test, INPUT_LENGTH, OUTPUT_LENGTH, SEQUENCE_STRIDE)\n",
        "\n",
        "print(X_train.shape)\n",
        "print(y_train.shape)"
      ],
      "id": "AYvDUgZN9c41"
    },
    {
      "cell_type": "markdown",
      "metadata": {
        "id": "mLo_jpe09c41"
      },
      "source": [
        "👇 Illustration down below if *SEQUENCE_STRIDE = 1 week*\n",
        "\n",
        "<img src=\"https://github.com/lewagon/data-images/blob/master/DL/scanning_a_time_series_chronologically_v3.png?raw=true\">"
      ],
      "id": "mLo_jpe09c41"
    },
    {
      "cell_type": "markdown",
      "metadata": {
        "id": "PkD2v0lk9c41"
      },
      "source": [
        "# (2) 💻 Modelling"
      ],
      "id": "PkD2v0lk9c41"
    },
    {
      "cell_type": "markdown",
      "metadata": {
        "id": "siP7DRbt9c41"
      },
      "source": [
        "**The MAE as a metrics to monitor the temperature prediction**"
      ],
      "id": "siP7DRbt9c41"
    },
    {
      "cell_type": "markdown",
      "metadata": {
        "id": "s-0dI1bN9c41"
      },
      "source": [
        "The Mean Absolute Error seems to be a reasonable metrics to evaluate a model's capability to predict the temperature:\n",
        "\n",
        "$$ MAE = \\frac{1}{n_{samples}} \\times \\sum_{i = 1}^{n_{samples}} |y_{true}^{(i)} - y_{pred}^{(i)}|$$"
      ],
      "id": "s-0dI1bN9c41"
    },
    {
      "cell_type": "markdown",
      "metadata": {
        "id": "Ek_BkOwU9c41"
      },
      "source": [
        "## (2.1) 💻 A Recurrent Neural Network: the `LSTM`\n",
        "\n",
        "🚀 It is time to design a Recurrent Neural Network and hopefully beat the baseline 💪 !"
      ],
      "id": "Ek_BkOwU9c41"
    },
    {
      "cell_type": "markdown",
      "metadata": {
        "id": "4-0lyUW39c41"
      },
      "source": [
        "💻 ❓ **Question (RNN)** ❓ \n",
        "\n",
        "- Create a function `init_model` which builds and compiles a simple Recurrent Neural Network with an LSTM layer\n",
        "- Don't forget to normalize your data with a [📚 Normalization layer](https://www.tensorflow.org/api_docs/python/tf/keras/layers/Normalization)"
      ],
      "id": "4-0lyUW39c41"
    },
    {
      "cell_type": "code",
      "execution_count": null,
      "metadata": {
        "id": "Tl8reZi49c41"
      },
      "outputs": [],
      "source": [
        "from tensorflow.keras import models\n",
        "from tensorflow.keras import layers\n",
        "from tensorflow.keras import optimizers, metrics\n",
        "from tensorflow.keras.layers.experimental.preprocessing import Normalization\n",
        "\n",
        "def init_model(X_train, y_train):\n",
        "    \n",
        "    pass  # YOUR CODE HERE"
      ],
      "id": "Tl8reZi49c41"
    },
    {
      "cell_type": "code",
      "execution_count": null,
      "metadata": {
        "id": "hTHwcCAc9c42"
      },
      "outputs": [],
      "source": [
        "model = init_model(X_train, y_train)\n",
        "model.summary()"
      ],
      "id": "hTHwcCAc9c42"
    },
    {
      "cell_type": "markdown",
      "metadata": {
        "id": "d_e9eN6D9c42"
      },
      "source": [
        "🛠 🎁 📉 We coded a function `plot_history` for you to visualize the training of your RNN over epochs. This function shows both the evolution of the loss function (MSE) and metrics (MAE)."
      ],
      "id": "d_e9eN6D9c42"
    },
    {
      "cell_type": "code",
      "execution_count": null,
      "metadata": {
        "id": "hD1D99Q09c42"
      },
      "outputs": [],
      "source": [
        "def plot_history(history):\n",
        "    \n",
        "    fig, ax = plt.subplots(1,2, figsize=(20,7))\n",
        "    # --- LOSS: MSE --- \n",
        "    ax[0].plot(history.history['loss'])\n",
        "    ax[0].plot(history.history['val_loss'])\n",
        "    ax[0].set_title('MSE')\n",
        "    ax[0].set_ylabel('Loss')\n",
        "    ax[0].set_xlabel('Epoch')\n",
        "    ax[0].legend(['Train', 'Validation'], loc='best')\n",
        "    ax[0].grid(axis=\"x\",linewidth=0.5)\n",
        "    ax[0].grid(axis=\"y\",linewidth=0.5)\n",
        "    \n",
        "    # --- METRICS:MAE ---\n",
        "    \n",
        "    ax[1].plot(history.history['mae'])\n",
        "    ax[1].plot(history.history['val_mae'])\n",
        "    ax[1].set_title('MAE')\n",
        "    ax[1].set_ylabel('MAE')\n",
        "    ax[1].set_xlabel('Epoch')\n",
        "    ax[1].legend(['Train', 'Validation'], loc='best')\n",
        "    ax[1].grid(axis=\"x\",linewidth=0.5)\n",
        "    ax[1].grid(axis=\"y\",linewidth=0.5)\n",
        "                        \n",
        "    return ax"
      ],
      "id": "hD1D99Q09c42"
    },
    {
      "cell_type": "markdown",
      "metadata": {
        "id": "eXl1uC0H9c42"
      },
      "source": [
        "💻 ❓ **Questions (training and evaluating)** ❓\n",
        "\n",
        "- Code the `fit_model()` method that \n",
        "    - <i>(input)</i> given `model`\n",
        "    - <i>(output)</i> returns the fitted model through a tuple `(model, history)` \n",
        "- Then:\n",
        "    - Initialize an RNN model with the `init_model` function\n",
        "    - <font color=blue>Train</font> the model\n",
        "    - <font color=orange>Evaluate</font> it on the test set"
      ],
      "id": "eXl1uC0H9c42"
    },
    {
      "cell_type": "code",
      "execution_count": null,
      "metadata": {
        "tags": [
          "challengify"
        ],
        "id": "UPY4FB_m9c42"
      },
      "outputs": [],
      "source": [
        "# YOUR CODE HERE"
      ],
      "id": "UPY4FB_m9c42"
    },
    {
      "cell_type": "markdown",
      "metadata": {
        "id": "UnDOM-Pm9c42"
      },
      "source": [
        "## (2.2) 💻 A Baseline Model to compare our LSTM with!"
      ],
      "id": "UnDOM-Pm9c42"
    },
    {
      "cell_type": "markdown",
      "metadata": {
        "id": "nFosaUTV9c42"
      },
      "source": [
        "👉 In Time Series, an \"intuitive\" baseline model is to predict the **last seen value** for the future value(s) you want to forecast, as illustrated down below!\n",
        "\n",
        "<img src = \"https://github.com/lewagon/data-images/blob/master/DL/rnn_time_series_no_horizon.png?raw=true\" width = 600, height = 300>"
      ],
      "id": "nFosaUTV9c42"
    },
    {
      "cell_type": "markdown",
      "metadata": {
        "id": "zsXbpKMR9c42"
      },
      "source": [
        "💻 ❓ **Question (Last Seen Value Baseline Model)** ❓ \n",
        "\n",
        "Create a new method `init_baseline` that initializes and compiles a baseline model in a similar way to the LSTM.\n",
        "\n",
        "- The baseline should be as a [📚 Keras Lambda Layer](https://www.tensorflow.org/api_docs/python/tf/keras/layers/Lambda)\n",
        "- It should not even need a `fit` because it should have 0 trainable params\n",
        "- Then, compute the MAE for this FOLD and compare it with the MAE you obtained on the test set after training the LSTM \n",
        " \n",
        "<details>\n",
        "    <summary markdown='span'>💡 <i>Hint</i></summary>\n",
        "\n",
        "- Remember that `X_train[:,:,1]` is your temperature time-series (it's the second column in your `fold`) \n",
        "</details>\n"
      ],
      "id": "zsXbpKMR9c42"
    },
    {
      "cell_type": "code",
      "execution_count": null,
      "metadata": {
        "id": "m7-N8G659c42"
      },
      "outputs": [],
      "source": [
        "from tensorflow.keras.layers import Lambda\n",
        "\n",
        "def init_baseline():\n",
        "\n",
        "    pass  # YOUR CODE HERE"
      ],
      "id": "m7-N8G659c42"
    },
    {
      "cell_type": "code",
      "execution_count": null,
      "metadata": {
        "id": "OjOaxT7V9c43"
      },
      "outputs": [],
      "source": [
        "baseline_model = init_baseline()\n",
        "baseline_score = baseline_model.evaluate(X_test, y_test)\n",
        "print(f\"- The Baseline MAE on the test set is equal to {round(baseline_score[1],2)} Celsius degrees\")"
      ],
      "id": "OjOaxT7V9c43"
    },
    {
      "cell_type": "code",
      "execution_count": null,
      "metadata": {
        "id": "02xmgsx69c43"
      },
      "outputs": [],
      "source": [
        "print(f\"- The LSTM MAE on the test set is equal to {round(res[1],2)} Celsius degrees\")\n",
        "print(f\"🔥 Improvement of the LSTM model over the baseline (on this fold for the test set) = : {round((1 - (res[1]/baseline_score[1]))*100,2)} % 🔥\")"
      ],
      "id": "02xmgsx69c43"
    },
    {
      "cell_type": "markdown",
      "metadata": {
        "id": "GmxKqtIk9c43"
      },
      "source": [
        "## (2.3) 💻 Cross-Validation"
      ],
      "id": "GmxKqtIk9c43"
    },
    {
      "cell_type": "markdown",
      "metadata": {
        "id": "blI3C3F49c43"
      },
      "source": [
        "Remember **\"The big picture\"** ? \n",
        "\n",
        "<br>\n",
        "\n",
        "<details>\n",
        "    <summary markdown='span'><i>The big picture</i></summary>\n",
        "\n",
        "\n",
        "<b><u>Step 1: Cross-Validation in Time Series [FOLDS] </u></b>\n",
        "\n",
        "* Starting from this single Time Series, we will create <font color=\"#c91ac9\">**FOLDS**</font>...\n",
        "* ... and train/evaluate our LSTM on these different <font color=\"#c91ac9\">**FOLDS**</font> to conclude about the robustness of the neural network\n",
        "* It is very common to create ***hundreds*** of <font color=\"#c91ac9\">**FOLDS**</font> in Time Series forecasting, so as to cover all type of external conditions: e.g.\n",
        "    - crash market periods 📉\n",
        "    - bull markets 📈\n",
        "    - atone markets 😴, etc...\n",
        "\n",
        "<b><u>Step 2: Holdout method within each fold [TRAIN-TEST SPLIT]</u></b>\n",
        "\n",
        "* For each <font color=\"#c91ac9\">**FOLD**</font>, we will do a TRAIN-TEST SPLIT to:\n",
        "    * <font color=blue>**fit**</font> the model on the <font color=blue>**train**</font> set \n",
        "    * and <font color=\"#ff8005\">**evaluate**</font> it on the <font color=\"#ff8005\">**test**</font> set\n",
        "    * Always split the train set **chronologically** before the test set!\n",
        "\n",
        "👇 The first two steps can be summarized in the following image that contains 4 FOLDS:\n",
        "\n",
        "<img src=\"https://bit.ly/3yLoa92\" alt=\"Time Series Cross Validation\" width=\"500\" height=\"500\">\n",
        "\n",
        "\n",
        "<b><u>Step 3: Sampling SEQUENCES in both the train set and the test set</u></b>\n",
        "\n",
        "In each <font color=blue>**train**</font> set and each <font color=\"#ff8005\">**test**</font> set, we will create <font color=magenta>**random sequences**</font> as illustrated down below 👇:\n",
        "\n",
        "<img src=\"https://bit.ly/3Ri8Vfd\" alt=\"Sequences in each fold\" width=\"500\" height=\"500\"> \n",
        "\n",
        "\n",
        "</details>\n",
        "\n",
        "❗️ ***Warnings*** ❗️\n",
        "\n",
        "* Keep in mind that we did <u><i>step 2</i></u> (<font color=\"blue\">train</font>/<font color=\"orange\">test</font> split) and <u><i>step 3</i></u> (get_X_y) only **<font color=\"#c91ac9\">for one single FOLD</font>**. \n",
        "* ***If we want to ensure the robustness of a model, we need to <font color=\"\">cross-validate the model on <font color=\"#c91ac9\">ALL the folds</font>!***\n"
      ],
      "id": "blI3C3F49c43"
    },
    {
      "cell_type": "code",
      "execution_count": null,
      "metadata": {
        "id": "6kh_wTQp9c43"
      },
      "outputs": [],
      "source": [
        "# Reminders of the global variables in this notebook\n",
        "\n",
        "print(f'N_FEATURES = {N_FEATURES}') \n",
        "print(f'N_TARGETS = {N_TARGETS}') \n",
        "print('')\n",
        "print(f'FOLD_LENGTH = {FOLD_LENGTH}')\n",
        "print(f'FOLD_STRIDE = {FOLD_STRIDE}')\n",
        "print(f'TRAIN_TEST_RATIO = {TRAIN_TEST_RATIO}')\n",
        "print('')\n",
        "print(f'N_TRAIN = {N_TRAIN}')\n",
        "print(f'N_TEST = {N_TEST}')\n",
        "print(f'INPUT_LENGTH = {INPUT_LENGTH}')\n",
        "print(f'OUTPUT_LENGTH = {OUTPUT_LENGTH}')\n"
      ],
      "id": "6kh_wTQp9c43"
    },
    {
      "cell_type": "code",
      "execution_count": null,
      "metadata": {
        "id": "eKSrIII79c43"
      },
      "outputs": [],
      "source": [
        "# Remember how many folds do we have ?\n",
        "folds = get_folds(df, FOLD_LENGTH, FOLD_STRIDE)\n",
        "\n",
        "print(f\"WARNING, we have {len(folds)} FOLDS, so you may want to run the cross-validation of the RNN on Colab.\")"
      ],
      "id": "eKSrIII79c43"
    },
    {
      "cell_type": "markdown",
      "metadata": {
        "id": "8sZFl53W9c43"
      },
      "source": [
        "💻 **❓ Cross validate your baseline and your model in a for-loop!❓**\n",
        "\n",
        "Re-using your previously defined methods\n",
        "- `get_folds`\n",
        "- `train_test_split`\n",
        "- `get_X_y`\n",
        "- `init_model`\n",
        "- `init_baseline`"
      ],
      "id": "8sZFl53W9c43"
    },
    {
      "cell_type": "code",
      "execution_count": null,
      "metadata": {
        "id": "WDcuFgRq9c43"
      },
      "outputs": [],
      "source": [
        "from tensorflow.keras.callbacks import EarlyStopping\n",
        "\n",
        "def cross_validate_baseline_and_lstm():\n",
        "    '''\n",
        "    This function cross-validates \n",
        "    - the \"last seen value\" baseline model\n",
        "    - the RNN model\n",
        "    '''\n",
        "    \n",
        "    list_of_mae_baseline_model = []\n",
        "    list_of_mae_recurrent_model = []\n",
        "    \n",
        "    # 0 - Creating folds\n",
        "    # =========================================    \n",
        "    folds = get_folds(df, FOLD_LENGTH, FOLD_STRIDE)\n",
        "    \n",
        "    for fold_id, fold in enumerate(folds):\n",
        "        \n",
        "        # 1 - Train/Test split the current fold\n",
        "        # =========================================\n",
        "        (fold_train, fold_test) = train_test_split(fold, TRAIN_TEST_RATIO, INPUT_LENGTH)                   \n",
        "\n",
        "        X_train, y_train = get_X_y(fold_train, N_TRAIN, INPUT_LENGTH, OUTPUT_LENGTH)\n",
        "        X_test, y_test = get_X_y(fold_test, N_TEST, INPUT_LENGTH, OUTPUT_LENGTH)\n",
        "        \n",
        "        # 2 - Modelling\n",
        "        # =========================================\n",
        "        \n",
        "        ##### Baseline Model\n",
        "        baseline_model = init_baseline()\n",
        "        mae_baseline = baseline_model.evaluate(X_test, y_test, verbose=0)[1]\n",
        "        list_of_mae_baseline_model.append(mae_baseline)\n",
        "        print(\"-\"*50)\n",
        "        print(f\"MAE baseline fold n°{fold_id} = {round(mae_baseline, 2)}\")\n",
        "\n",
        "        ##### LSTM Model\n",
        "        model = init_model(X_train, y_train)\n",
        "        es = EarlyStopping(monitor = \"val_mae\",\n",
        "                           mode = \"min\",\n",
        "                           patience = 2, \n",
        "                           restore_best_weights = True)\n",
        "        history = model.fit(X_train, y_train,\n",
        "                            validation_split = 0.3,\n",
        "                            shuffle = False,\n",
        "                            batch_size = 32,\n",
        "                            epochs = 50,\n",
        "                            callbacks = [es],\n",
        "                            verbose = 0)\n",
        "        res = model.evaluate(X_test, y_test, verbose=0)\n",
        "        mae_lstm = res[1]\n",
        "        list_of_mae_recurrent_model.append(mae_lstm)\n",
        "        print(f\"MAE LSTM fold n°{fold_id} = {round(mae_lstm, 2)}\")\n",
        "        \n",
        "        ##### Comparison LSTM vs Baseline for the current fold\n",
        "        print(f\"🏋🏽‍♂️ improvement over baseline: {round((1 - (mae_lstm/mae_baseline))*100,2)} % \\n\")\n",
        "\n",
        "    return list_of_mae_baseline_model, list_of_mae_recurrent_model"
      ],
      "id": "WDcuFgRq9c43"
    },
    {
      "cell_type": "code",
      "execution_count": null,
      "metadata": {
        "id": "70SFoLz99c44"
      },
      "outputs": [],
      "source": [
        "%%time\n",
        "# WARNING : it takes 75 minutes to run this cell \n",
        "mae_baselines, mae_lstms = cross_validate_baseline_and_lstm()"
      ],
      "id": "70SFoLz99c44"
    },
    {
      "cell_type": "code",
      "execution_count": null,
      "metadata": {
        "id": "QCtVPnQM9c44"
      },
      "outputs": [],
      "source": [
        "print(f\"average percentage improvement over baseline = {round(np.mean(1 - (np.array(mae_lstms)/np.array(mae_baselines))),2)*100}%\")"
      ],
      "id": "QCtVPnQM9c44"
    },
    {
      "cell_type": "markdown",
      "metadata": {
        "id": "IrQZ3gTF9c44"
      },
      "source": [
        "## Acknowledgments"
      ],
      "id": "IrQZ3gTF9c44"
    },
    {
      "cell_type": "markdown",
      "metadata": {
        "id": "a_TJUfDD9c44"
      },
      "source": [
        "* This challenge was truly inspired by the `Time Series Forecasting` tutorial from `Google>Tensorflow>Keras`\n",
        "* The technical functions were inspired by Bruno Lajoie's [data-template package about Time Series](https://github.com/lewagon/data-templates/tree/main/project-boilerplates)"
      ],
      "id": "a_TJUfDD9c44"
    },
    {
      "cell_type": "markdown",
      "metadata": {
        "id": "tHwLLnuQ9c44"
      },
      "source": [
        "# (Bonus) The original dataset "
      ],
      "id": "tHwLLnuQ9c44"
    },
    {
      "cell_type": "markdown",
      "metadata": {
        "id": "ltsKuQln9c44"
      },
      "source": [
        "🥋 If you want to practice your feature engineering skills, feel free to come back to this challenge later, download the original dataset and work on it."
      ],
      "id": "ltsKuQln9c44"
    },
    {
      "cell_type": "code",
      "execution_count": null,
      "metadata": {
        "id": "M23cqq0g9c44"
      },
      "outputs": [],
      "source": [
        "#########################################################\n",
        "# Uncomment later -not today- to download the original  #\n",
        "# dataset and try to perform the features engineering   #\n",
        "# by yourself                                           #\n",
        "#########################################################\n",
        "\n",
        "\n",
        "zip_path = tf.keras.utils.get_file(\n",
        "    origin='https://storage.googleapis.com/tensorflow/tf-keras-datasets/jena_climate_2009_2016.csv.zip',\n",
        "    fname='jena_climate_2009_2016.csv.zip',\n",
        "    extract=True)\n",
        "csv_path, _ = os.path.splitext(zip_path)\n",
        "\n",
        "raw = pd.read_csv(csv_path)\n",
        "\n",
        "print(f\"raw.shape = {raw.shape}\")\n",
        "display(raw.head())"
      ],
      "id": "M23cqq0g9c44"
    },
    {
      "cell_type": "code",
      "execution_count": null,
      "metadata": {
        "id": "phdviYME9c44"
      },
      "outputs": [],
      "source": [
        "# Inspecting each feature to detect their type and null values\n",
        "raw.info()"
      ],
      "id": "phdviYME9c44"
    },
    {
      "cell_type": "code",
      "execution_count": null,
      "metadata": {
        "id": "Q2lzcSt39c44"
      },
      "outputs": [],
      "source": [
        "# Slice [start:stop:step], \n",
        "# starting from index 5, take every 6th record\n",
        "# to get only hourly records\n",
        "\n",
        "pass  # YOUR CODE HERE"
      ],
      "id": "Q2lzcSt39c44"
    },
    {
      "cell_type": "code",
      "execution_count": null,
      "metadata": {
        "id": "k-ulc5pY9c44"
      },
      "outputs": [],
      "source": [
        "# Convert the \"Date Time\" column to a datetime format\n",
        "\n",
        "pass  # YOUR CODE HERE"
      ],
      "id": "k-ulc5pY9c44"
    },
    {
      "cell_type": "code",
      "execution_count": null,
      "metadata": {
        "id": "5SACjn7q9c45"
      },
      "outputs": [],
      "source": [
        "# Describe the dataset\n",
        "\n",
        "pass  # YOUR CODE HERE"
      ],
      "id": "5SACjn7q9c45"
    },
    {
      "cell_type": "code",
      "execution_count": null,
      "metadata": {
        "id": "BzPMupxi9c45"
      },
      "outputs": [],
      "source": [
        "## Fixing the wv, look at the absurd values and replace them with zero\n",
        "\n",
        "pass  # YOUR CODE HERE\n",
        "\n",
        "## Fixing the max wv\n",
        "\n",
        "pass  # YOUR CODE HERE"
      ],
      "id": "BzPMupxi9c45"
    },
    {
      "cell_type": "code",
      "execution_count": null,
      "metadata": {
        "id": "tHWUI4Ej9c45"
      },
      "outputs": [],
      "source": [
        "# Wind : Wd degrees from 0 to 360 egrees\n",
        "# Angles do not make good models inputs because 0 and 360 should be \"close\"\n",
        "\n",
        "print('-'*50)\n",
        "print(\"Working with angles...\")\n",
        "\n",
        "plt.hist2d(df['wd (deg)'], df['wv (m/s)'], \n",
        "           bins=(50, 50), \n",
        "           vmax=400)\n",
        "plt.colorbar()\n",
        "plt.xlabel('Wind Direction [deg]')\n",
        "plt.ylabel('Wind Velocity [m/s]')\n",
        "plt.show()\n",
        "\n",
        "# It is much easier for the model to interpret\n",
        "# the wind direction and the wind velocity through a vector\n",
        "\n",
        "\n",
        "# Convert degrees to radians and store the values into wd_rad\n",
        "pass  # YOUR CODE HERE\n",
        "\n",
        "# Calculate the wind x and y components and store then in two new columns\n",
        "# `Wx` and `Wy`\n",
        "pass  # YOUR CODE HERE\n",
        "\n",
        "# Calculate the max wind x and y components and store then in two new columns\n",
        "# `max Wx` and `max Wy`\n",
        "pass  # YOUR CODE HERE\n",
        "\n",
        "print('-'*50)\n",
        "print(\"Working with wind vectors\")\n",
        "\n",
        "plt.hist2d(df['Wx'], df['Wy'], \n",
        "           bins=(50, 50), vmax=400)\n",
        "plt.colorbar()\n",
        "plt.xlabel('Wind X [m/s]')\n",
        "plt.ylabel('Wind Y [m/s]')\n",
        "ax = plt.gca()\n",
        "ax.axis('tight')\n",
        "plt.show()\n",
        "\n",
        "# $CHALLENGIFY_END"
      ],
      "id": "tHWUI4Ej9c45"
    },
    {
      "cell_type": "code",
      "execution_count": null,
      "metadata": {
        "id": "n5n_T0ME9c45"
      },
      "outputs": [],
      "source": [
        "# Similarly to the wind direction, the time in seconds is not a useful model input\n",
        "# The weather dataset has clear daily and yearly periodicities\n",
        "# Using sine and cosine functions, we can compute:\n",
        "# - the time of the day\n",
        "# - the time of the year\n",
        "\n",
        "pass  # YOUR CODE HERE"
      ],
      "id": "n5n_T0ME9c45"
    },
    {
      "cell_type": "code",
      "execution_count": null,
      "metadata": {
        "id": "f9AVVffX9c45"
      },
      "outputs": [],
      "source": [
        "# Select every 3 hours \n",
        "\n",
        "pass  # YOUR CODE HERE"
      ],
      "id": "f9AVVffX9c45"
    }
  ],
  "metadata": {
    "kernelspec": {
      "display_name": "Python 3",
      "language": "python",
      "name": "python3"
    },
    "colab": {
      "provenance": [],
      "collapsed_sections": [
        "Hs7VqMAt9c4s",
        "cTbc3IwT9c4t",
        "uvmLrBjQ9c4v",
        "m_SGInzv9c4x",
        "3NFt4IIr9c4y",
        "yjqkq32J9c4y",
        "HeNhqOhx9c4z",
        "e8V787iE9c40",
        "Ek_BkOwU9c41",
        "UnDOM-Pm9c42",
        "GmxKqtIk9c43",
        "IrQZ3gTF9c44"
      ]
    }
  },
  "nbformat": 4,
  "nbformat_minor": 5
}